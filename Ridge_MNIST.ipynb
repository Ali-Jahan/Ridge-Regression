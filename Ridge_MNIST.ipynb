{
  "nbformat": 4,
  "nbformat_minor": 0,
  "metadata": {
    "colab": {
      "name": "Ridge_MNIST.ipynb",
      "provenance": []
    },
    "kernelspec": {
      "name": "python3",
      "display_name": "Python 3"
    }
  },
  "cells": [
    {
      "cell_type": "markdown",
      "metadata": {
        "id": "hRweV2rdy81p",
        "colab_type": "text"
      },
      "source": [
        "Ridge Regression on MNIST data"
      ]
    },
    {
      "cell_type": "code",
      "metadata": {
        "id": "iP56PfuVy8cN",
        "colab_type": "code",
        "colab": {}
      },
      "source": [
        "import numpy as np\n",
        "import scipy.linalg as sc\n",
        "import mnist\n",
        "\n",
        "class RidgeReg:\n",
        "\n",
        "    def load_dataset(self):\n",
        "        mndata = mnist.MNIST(\"data/\")\n",
        "        X_train, labels_train = map(np.array, mndata.load_training())\n",
        "        X_test, labels_test = map(np.array, mndata.load_testing())\n",
        "        self.X_train = X_train / 255.0\n",
        "        self.X_test = X_test / 255.0\n",
        "\n",
        "        self.Y_train = labels_train\n",
        "        self.Y_test = labels_test\n",
        "\n",
        "        # converted labels to one_hot of y in {0,1}^10\n",
        "        self.labels_train = self.one_hot(labels_train)\n",
        "        self.labels_test = self.one_hot(labels_test)\n",
        "\n",
        "    # convert Y to a one_hot matrix\n",
        "    def one_hot(self, Y):\n",
        "        converted = np.zeros((len(Y), 10))\n",
        "        for i in range(len(Y)):\n",
        "            converted[i, Y[i]] = 1\n",
        "        return converted\n",
        "\n",
        "    def train(self, X, Y, reg_lambda):\n",
        "        reg_matrix = reg_lambda * np.eye(X.shape[1])\n",
        "        omega = sc.solve((X.T.dot(X) + reg_matrix), X.T.dot(Y))\n",
        "        return omega\n",
        "\n",
        "\n",
        "    def predict(self, W, X_):\n",
        "        Y_p = np.zeros(len(X_))\n",
        "        index = 0\n",
        "        for x in X_:\n",
        "            Y_p[index] = np.argmax(W.T.dot(x.T))\n",
        "            index += 1\n",
        "        return Y_p\n",
        "\n",
        "    # If the results are 100% accurate, all the elements would\n",
        "    # be the same, and their difference would be 0.\n",
        "    # I used Y_p - Y to make a matrix where the correct predictions\n",
        "    # are 0, and the wrong predictions are != 0.\n",
        "    # Count of the non-zero elements is the count of wrong predictions.\n",
        "    def getError(self, Y_p, Y):\n",
        "\n",
        "        temp = Y_p - Y\n",
        "        error = np.count_nonzero(temp) / len(temp)\n",
        "        return error\n",
        "\n",
        "\n",
        "R = RidgeReg()\n",
        "R.load_dataset()\n",
        "\n",
        "X_train = R.X_train\n",
        "X_test = R.X_test\n",
        "labels_train = R.labels_train\n",
        "labels_test = R.labels_test\n",
        "\n",
        "omega = R.train(X_train, labels_train, 1E-4)\n",
        "Y_train_p = R.predict(omega, X_train)\n",
        "Y_test_p = R.predict(omega, X_test)\n",
        "\n",
        "Y_train = R.Y_train\n",
        "Y_test = R.Y_test\n",
        "\n",
        "Y_train_error = R.getError(Y_train_p, Y_train)\n",
        "Y_test_error = R.getError(Y_test_p, Y_test)\n",
        "\n",
        "print('Training Error: %', '%.2f' % (Y_train_error * 100))\n",
        "print('Testing Error: %', '%.2f' % (Y_test_error * 100))"
      ],
      "execution_count": null,
      "outputs": []
    }
  ]
}