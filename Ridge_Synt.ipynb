{
  "nbformat": 4,
  "nbformat_minor": 0,
  "metadata": {
    "colab": {
      "name": "Ridge_Synt.ipynb",
      "provenance": []
    },
    "kernelspec": {
      "name": "python3",
      "display_name": "Python 3"
    }
  },
  "cells": [
    {
      "cell_type": "markdown",
      "metadata": {
        "id": "NLDsFqjPx8se",
        "colab_type": "text"
      },
      "source": [
        "Ridge Regression on synthetic data"
      ]
    },
    {
      "cell_type": "code",
      "metadata": {
        "id": "zhk5nFqmxusL",
        "colab_type": "code",
        "colab": {}
      },
      "source": [
        "def learningCurve(Xtrain, Ytrain, Xtest, Ytest, reg_lambda, degree):\n",
        "\n",
        "    n = len(Xtrain)\n",
        "\n",
        "    errorTrain = np.zeros(n)\n",
        "    errorTest = np.zeros(n)\n",
        "    model = PolynomialRegression(degree, reg_lambda)\n",
        "\n",
        "    # helper function to compute the error, and help with tidying up the code\n",
        "    def getErrors(y1, y2):\n",
        "        return np.sum((y1 - y2)**2) / len(y1)\n",
        "\n",
        "    # starting the for loop from 2, since 0:1 is not important\n",
        "    for i in range(2, n):\n",
        "        # partial matrices to train the model\n",
        "        Xtrain_i = Xtrain[0: i+1]\n",
        "        Ytrain_i = Ytrain[0 : i+1]\n",
        "\n",
        "        # model trains (learns)\n",
        "        model.fit(Xtrain_i, Ytrain_i)\n",
        "        # predictions\n",
        "        Ytrain_p = model.predict(Xtrain_i)\n",
        "        Ytest_p = model.predict(Xtest)\n",
        "\n",
        "        # errors calculated\n",
        "        errorTrain[i] = getErrors(Ytrain_i, Ytrain_p)\n",
        "        errorTest[i] = getErrors(Ytest, Ytest_p)\n",
        "        \n",
        "    return errorTrain, errorTest"
      ],
      "execution_count": null,
      "outputs": []
    }
  ]
}